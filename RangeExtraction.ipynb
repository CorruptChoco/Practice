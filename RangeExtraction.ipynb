{
 "cells": [
  {
   "cell_type": "markdown",
   "metadata": {},
   "source": [
    "A format for expressing an ordered list of integers is to use a comma separated list of either\n",
    "\n",
    "individual integers\n",
    "or a range of integers denoted by the starting integer separated from the end integer in the range by a dash, '-'. The range includes all integers in the interval including both endpoints. It is not considered a range unless it spans at least 3 numbers. For example \"12,13,15-17\"\n",
    "Complete the solution so that it takes a list of integers in increasing order and returns a correctly formatted string in the range format.\n",
    "\n",
    "Example:\n",
    "\n",
    "solution([-10, -9, -8, -6, -3, -2, -1, 0, 1, 3, 4, 5, 7, 8, 9, 10, 11, 14, 15, 17, 18, 19, 20])\n",
    "# returns \"-10--8,-6,-3-1,3-5,7-11,14,15,17-20\""
   ]
  },
  {
   "cell_type": "code",
   "execution_count": 19,
   "metadata": {},
   "outputs": [
    {
     "data": {
      "text/plain": [
       "'-6,-3-1,3-5,7-11,14,15,17-20'"
      ]
     },
     "execution_count": 19,
     "metadata": {},
     "output_type": "execute_result"
    }
   ],
   "source": [
    "# my working solution\n",
    "\n",
    "args = [-6,-3,-2,-1,0,1,3,4,5,7,8,9,10,11,14,15,17,18,19,20]\n",
    "\n",
    "def solution(args):\n",
    "    string = ''\n",
    "    i = 0\n",
    "    while i < len(args):\n",
    "        string += str(args[i])\n",
    "        if i + 2 < len(args) and args[i+1] == args[i] + 1 and args[i+2] == args[i] + 2:\n",
    "            string += '-'\n",
    "            a = 1\n",
    "            while i + a < len(args) and args[i+a] == args[i] + a:\n",
    "                a += 1\n",
    "            string += str(args[i+a-1]) + ','\n",
    "            i = i + a\n",
    "        else:\n",
    "            string += ','\n",
    "            i += 1\n",
    "    return string[:-1]\n",
    "\n",
    "solution(args)"
   ]
  },
  {
   "cell_type": "code",
   "execution_count": null,
   "metadata": {},
   "outputs": [],
   "source": [
    "# other solutions\n",
    "\n",
    "def solution(args):\n",
    "    out = []\n",
    "    beg = end = args[0]\n",
    "    \n",
    "    for n in args[1:] + [\"\"]:        \n",
    "        if n != end + 1:\n",
    "            if end == beg:\n",
    "                out.append( str(beg) )\n",
    "            elif end == beg + 1:\n",
    "                out.extend( [str(beg), str(end)] )\n",
    "            else:\n",
    "                out.append( str(beg) + \"-\" + str(end) )\n",
    "            beg = n\n",
    "        end = n\n",
    "    \n",
    "    return \",\".join(out)"
   ]
  }
 ],
 "metadata": {
  "kernelspec": {
   "display_name": "base",
   "language": "python",
   "name": "python3"
  },
  "language_info": {
   "codemirror_mode": {
    "name": "ipython",
    "version": 3
   },
   "file_extension": ".py",
   "mimetype": "text/x-python",
   "name": "python",
   "nbconvert_exporter": "python",
   "pygments_lexer": "ipython3",
   "version": "3.9.7"
  }
 },
 "nbformat": 4,
 "nbformat_minor": 2
}

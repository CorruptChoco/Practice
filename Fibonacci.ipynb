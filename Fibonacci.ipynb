{
 "cells": [
  {
   "cell_type": "markdown",
   "metadata": {},
   "source": [
    "The Fibonacci numbers are the numbers in the following integer sequence (Fn):\n",
    "\n",
    "0, 1, 1, 2, 3, 5, 8, 13, 21, 34, 55, 89, 144, 233, ...\n",
    "\n",
    "such as\n",
    "\n",
    "F(n) = F(n-1) + F(n-2) with F(0) = 0 and F(1) = 1.\n",
    "\n",
    "Given a number, say prod (for product), we search two Fibonacci numbers F(n) and F(n+1) verifying\n",
    "\n",
    "F(n) * F(n+1) = prod.\n",
    "\n",
    "Your function productFib takes an integer (prod) and returns an array:\n",
    "\n",
    "[F(n), F(n+1), true] or {F(n), F(n+1), 1} or (F(n), F(n+1), True)\n",
    "depending on the language if F(n) * F(n+1) = prod.\n",
    "\n",
    "If you don't find two consecutive F(n) verifying F(n) * F(n+1) = prodyou will return\n",
    "\n",
    "[F(n), F(n+1), false] or {F(n), F(n+1), 0} or (F(n), F(n+1), False)\n",
    "F(n) being the smallest one such as F(n) * F(n+1) > prod.\n",
    "\n",
    "Some Examples of Return:\n",
    "(depend on the language)\n",
    "\n",
    "productFib(714) # should return (21, 34, true), \n",
    "                # since F(8) = 21, F(9) = 34 and 714 = 21 * 34\n",
    "\n",
    "productFib(800) # should return (34, 55, false), \n",
    "                # since F(8) = 21, F(9) = 34, F(10) = 55 and 21 * 34 < 800 < 34 * 55\n",
    "-----\n",
    "productFib(714) # should return [21, 34, true], \n",
    "productFib(800) # should return [34, 55, false], \n",
    "-----\n",
    "productFib(714) # should return {21, 34, 1}, \n",
    "productFib(800) # should return {34, 55, 0},        \n",
    "-----\n",
    "productFib(714) # should return {21, 34, true}, \n",
    "productFib(800) # should return {34, 55, false}, "
   ]
  },
  {
   "cell_type": "markdown",
   "metadata": {},
   "source": [
    "1) loop through fibonacci numbers\n",
    "2) multiply numbers together until product > given number or product == given number"
   ]
  },
  {
   "cell_type": "code",
   "execution_count": 13,
   "metadata": {},
   "outputs": [
    {
     "data": {
      "text/plain": [
       "[34, 55, False]"
      ]
     },
     "execution_count": 13,
     "metadata": {},
     "output_type": "execute_result"
    }
   ],
   "source": [
    "# my working solution\n",
    "\n",
    "def product_fib(_prod):\n",
    "    n = 0\n",
    "    n1 = 1\n",
    "    product = 0\n",
    "    while _prod >= product:\n",
    "        product = n * n1\n",
    "        if product == _prod:\n",
    "            return [n,n1,True]\n",
    "        temp, n, n1  = n, n1, n + n1\n",
    "    return [temp,n,False]\n",
    "        \n",
    "\n",
    "\n",
    "product_fib(800)"
   ]
  },
  {
   "cell_type": "code",
   "execution_count": null,
   "metadata": {},
   "outputs": [],
   "source": [
    "# better solution\n",
    "def productFib(prod):\n",
    "  a, b = 0, 1\n",
    "  while prod > a * b:\n",
    "    a, b = b, a + b\n",
    "  return [a, b, prod == a * b]"
   ]
  }
 ],
 "metadata": {
  "kernelspec": {
   "display_name": "base",
   "language": "python",
   "name": "python3"
  },
  "language_info": {
   "codemirror_mode": {
    "name": "ipython",
    "version": 3
   },
   "file_extension": ".py",
   "mimetype": "text/x-python",
   "name": "python",
   "nbconvert_exporter": "python",
   "pygments_lexer": "ipython3",
   "version": "3.9.7"
  }
 },
 "nbformat": 4,
 "nbformat_minor": 2
}

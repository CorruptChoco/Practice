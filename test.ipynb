{
 "cells": [
  {
   "cell_type": "code",
   "execution_count": 4,
   "metadata": {},
   "outputs": [
    {
     "name": "stdout",
     "output_type": "stream",
     "text": [
      "True\n"
     ]
    }
   ],
   "source": [
    "testList = []\n",
    "if testList == []:\n",
    "    print(True)\n",
    "else:\n",
    "    print(False)"
   ]
  },
  {
   "cell_type": "code",
   "execution_count": 1,
   "metadata": {},
   "outputs": [
    {
     "name": "stdout",
     "output_type": "stream",
     "text": [
      "TEST\n"
     ]
    }
   ],
   "source": [
    "string = 'Test'\n",
    "print(string.upper())"
   ]
  },
  {
   "cell_type": "code",
   "execution_count": 7,
   "metadata": {},
   "outputs": [
    {
     "name": "stdout",
     "output_type": "stream",
     "text": [
      "['s', 'i', 'h', 'T', ' ', 's', 'i', ' ', 'l', 'l', 'i', 't', 's', ' ', ' ', ' ', 'y', 't', 't', 'e', 'r', 'p', ' ', 'd', 'r', 'a', 'h']\n"
     ]
    }
   ],
   "source": [
    "text = 'This is still   pretty hard'\n",
    "tempText = []\n",
    "fullText = []\n",
    "for char in text:\n",
    "    if char != ' ':\n",
    "        tempText.append(char)\n",
    "    elif char == ' ':\n",
    "        tempText = tempText[::-1]\n",
    "        fullText.extend(tempText)\n",
    "        fullText.append(char)\n",
    "        tempText = []\n",
    "tempText = tempText[::-1]\n",
    "fullText.extend(tempText)\n",
    "\n",
    "\n",
    "print(fullText)"
   ]
  },
  {
   "cell_type": "code",
   "execution_count": 1,
   "metadata": {},
   "outputs": [
    {
     "name": "stdout",
     "output_type": "stream",
     "text": [
      "-1\n"
     ]
    }
   ],
   "source": [
    "total = 1.4\n",
    "if type(total) == int:\n",
    "    print (total)\n",
    "else:\n",
    "    print (-1)"
   ]
  },
  {
   "cell_type": "code",
   "execution_count": 9,
   "metadata": {},
   "outputs": [
    {
     "name": "stdout",
     "output_type": "stream",
     "text": [
      "[8, 9]\n",
      "[8, 81]\n",
      "1.0\n"
     ]
    },
    {
     "data": {
      "text/plain": [
       "-1"
      ]
     },
     "execution_count": 9,
     "metadata": {},
     "output_type": "execute_result"
    }
   ],
   "source": [
    "def dig_pow(n, p):\n",
    "    digits = [int(digit) for digit in str(n)]\n",
    "    print(digits)\n",
    "    # mdigits = []\n",
    "    count = 0\n",
    "    for digit in digits:\n",
    "        digits[count] = digit ** (p + count)\n",
    "        count += 1\n",
    "        # mdigits.append(digit)\n",
    "    print(digits)\n",
    "    total = sum(digits)/n\n",
    "    print(total)\n",
    "    if type(total) == int:\n",
    "        return total\n",
    "    else:\n",
    "        return -1\n",
    "    \n",
    "dig_pow(89, 1)"
   ]
  },
  {
   "cell_type": "code",
   "execution_count": 14,
   "metadata": {},
   "outputs": [],
   "source": [
    "def dig_pow(n, p):\n",
    "    digits = [int(digit) for digit in str(n)]\n",
    "    count = 0\n",
    "    for digit in digits:\n",
    "        digits[count] = digit ** (p + count)\n",
    "        count += 1\n",
    "    total = sum(digits)/n\n",
    "    if type(total) == float:\n",
    "        if total - round(total) <0.001:\n",
    "            total =  round(total)\n",
    "            return total\n",
    "        else:\n",
    "            return -1\n",
    "    else:\n",
    "        return -1\n",
    "\n",
    "dig_pow(92, 1)"
   ]
  },
  {
   "cell_type": "code",
   "execution_count": 17,
   "metadata": {},
   "outputs": [
    {
     "name": "stdout",
     "output_type": "stream",
     "text": [
      "2.0\n"
     ]
    }
   ],
   "source": [
    "print(10/5)"
   ]
  }
 ],
 "metadata": {
  "kernelspec": {
   "display_name": "base",
   "language": "python",
   "name": "python3"
  },
  "language_info": {
   "codemirror_mode": {
    "name": "ipython",
    "version": 3
   },
   "file_extension": ".py",
   "mimetype": "text/x-python",
   "name": "python",
   "nbconvert_exporter": "python",
   "pygments_lexer": "ipython3",
   "version": "3.9.7"
  }
 },
 "nbformat": 4,
 "nbformat_minor": 2
}

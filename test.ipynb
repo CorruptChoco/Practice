{
 "cells": [
  {
   "cell_type": "code",
   "execution_count": 4,
   "metadata": {},
   "outputs": [
    {
     "name": "stdout",
     "output_type": "stream",
     "text": [
      "True\n"
     ]
    }
   ],
   "source": [
    "testList = []\n",
    "if testList == []:\n",
    "    print(True)\n",
    "else:\n",
    "    print(False)"
   ]
  },
  {
   "cell_type": "code",
   "execution_count": 1,
   "metadata": {},
   "outputs": [
    {
     "name": "stdout",
     "output_type": "stream",
     "text": [
      "TEST\n"
     ]
    }
   ],
   "source": [
    "string = 'Test'\n",
    "print(string.upper())"
   ]
  },
  {
   "cell_type": "code",
   "execution_count": 7,
   "metadata": {},
   "outputs": [
    {
     "name": "stdout",
     "output_type": "stream",
     "text": [
      "['s', 'i', 'h', 'T', ' ', 's', 'i', ' ', 'l', 'l', 'i', 't', 's', ' ', ' ', ' ', 'y', 't', 't', 'e', 'r', 'p', ' ', 'd', 'r', 'a', 'h']\n"
     ]
    }
   ],
   "source": [
    "text = 'This is still   pretty hard'\n",
    "tempText = []\n",
    "fullText = []\n",
    "for char in text:\n",
    "    if char != ' ':\n",
    "        tempText.append(char)\n",
    "    elif char == ' ':\n",
    "        tempText = tempText[::-1]\n",
    "        fullText.extend(tempText)\n",
    "        fullText.append(char)\n",
    "        tempText = []\n",
    "tempText = tempText[::-1]\n",
    "fullText.extend(tempText)\n",
    "\n",
    "\n",
    "print(fullText)"
   ]
  }
 ],
 "metadata": {
  "kernelspec": {
   "display_name": "base",
   "language": "python",
   "name": "python3"
  },
  "language_info": {
   "codemirror_mode": {
    "name": "ipython",
    "version": 3
   },
   "file_extension": ".py",
   "mimetype": "text/x-python",
   "name": "python",
   "nbconvert_exporter": "python",
   "pygments_lexer": "ipython3",
   "version": "3.9.7"
  }
 },
 "nbformat": 4,
 "nbformat_minor": 2
}

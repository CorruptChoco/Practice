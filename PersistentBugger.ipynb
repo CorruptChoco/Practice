{
 "cells": [
  {
   "cell_type": "markdown",
   "metadata": {},
   "source": [
    "Write a function, persistence, that takes in a positive parameter num and returns its multiplicative persistence, which is the number of times you must multiply the digits in num until you reach a single digit.\n",
    "\n",
    "For example (Input --> Output):\n",
    "\n",
    "39 --> 3 (because 3*9 = 27, 2*7 = 14, 1*4 = 4 and 4 has only one digit)\n",
    "999 --> 4 (because 9*9*9 = 729, 7*2*9 = 126, 1*2*6 = 12, and finally 1*2 = 2)\n",
    "4 --> 0 (because 4 is already a one-digit number)"
   ]
  },
  {
   "cell_type": "code",
   "execution_count": 26,
   "metadata": {},
   "outputs": [
    {
     "data": {
      "text/plain": [
       "3"
      ]
     },
     "execution_count": 26,
     "metadata": {},
     "output_type": "execute_result"
    }
   ],
   "source": [
    "# my working solution\n",
    "\n",
    "n = 39\n",
    "\n",
    "def persistence(n):\n",
    "    if len(str(n)) == 1:\n",
    "        return 0\n",
    "    else:\n",
    "        product = 1\n",
    "        count = 0\n",
    "        while len(str(n)) > 1:\n",
    "            count += 1\n",
    "            product = 1\n",
    "            for num in str(n):\n",
    "                product *= int(num)\n",
    "            n = product\n",
    "        return count\n",
    "       \n",
    "\n",
    "persistence(n)\n"
   ]
  },
  {
   "cell_type": "code",
   "execution_count": null,
   "metadata": {},
   "outputs": [],
   "source": [
    "# other solutions\n",
    "import operator\n",
    "def persistence(n):\n",
    "    i = 0\n",
    "    while n>=10:\n",
    "        n=reduce(operator.mul,[int(x) for x in str(n)],1)\n",
    "        i+=1\n",
    "    return i"
   ]
  },
  {
   "cell_type": "code",
   "execution_count": null,
   "metadata": {},
   "outputs": [],
   "source": [
    "def persistence(n):\n",
    "    if n < 10: return 0\n",
    "    mult = 1\n",
    "    while(n > 0):\n",
    "        mult = n%10 * mult\n",
    "        n = n//10\n",
    "    return persistence(mult) + 1"
   ]
  }
 ],
 "metadata": {
  "kernelspec": {
   "display_name": "base",
   "language": "python",
   "name": "python3"
  },
  "language_info": {
   "codemirror_mode": {
    "name": "ipython",
    "version": 3
   },
   "file_extension": ".py",
   "mimetype": "text/x-python",
   "name": "python",
   "nbconvert_exporter": "python",
   "pygments_lexer": "ipython3",
   "version": "3.9.7"
  }
 },
 "nbformat": 4,
 "nbformat_minor": 2
}

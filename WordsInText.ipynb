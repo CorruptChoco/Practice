{
 "cells": [
  {
   "cell_type": "markdown",
   "metadata": {},
   "source": [
    "Write a function that, given a string of text (possibly with punctuation and line-breaks), returns an array of the top-3 most occurring words, in descending order of the number of occurrences.\n",
    "\n",
    "Assumptions:\n",
    "A word is a string of letters (A to Z) optionally containing one or more apostrophes (') in ASCII.\n",
    "Apostrophes can appear at the start, middle or end of a word ('abc, abc', 'abc', ab'c are all valid)\n",
    "# Any other characters (e.g. #, \\, / , . ...) are not part of a word and should be treated as whitespace.\n",
    "Matches should be case-insensitive, and the words in the result should be lowercased.\n",
    "Ties may be broken arbitrarily.\n",
    "If a text contains fewer than three unique words, then either the top-2 or top-1 words should be returned, or an empty array if a text contains no words.\n",
    "Examples:\n",
    "\"In a village of La Mancha, the name of which I have no desire to call to\n",
    "mind, there lived not long since one of those gentlemen that keep a lance\n",
    "in the lance-rack, an old buckler, a lean hack, and a greyhound for\n",
    "coursing. An olla of rather more beef than mutton, a salad on most\n",
    "nights, scraps on Saturdays, lentils on Fridays, and a pigeon or so extra\n",
    "on Sundays, made away with three-quarters of his income.\"\n",
    "\n",
    "--> [\"a\", \"of\", \"on\"]\n",
    "\n",
    "\n",
    "\"e e e e DDD ddd DdD: ddd ddd aa aA Aa, bb cc cC e e e\"\n",
    "\n",
    "--> [\"e\", \"ddd\", \"aa\"]\n",
    "\n",
    "\n",
    "\"  //wont won't won't\"\n",
    "\n",
    "--> [\"won't\", \"wont\"]\n",
    "Bonus points (not really, but just for fun):\n",
    "Avoid creating an array whose memory footprint is roughly as big as the input text.\n",
    "Avoid sorting the entire array of unique words."
   ]
  },
  {
   "cell_type": "code",
   "execution_count": 21,
   "metadata": {},
   "outputs": [
    {
     "data": {
      "text/plain": [
       "[\"won't\", 'wont']"
      ]
     },
     "execution_count": 21,
     "metadata": {},
     "output_type": "execute_result"
    }
   ],
   "source": [
    "# my not working code that i liked. it did not pass the highlighted rule above.\n",
    "\n",
    "answer = ['vynysdcxl', 'fqstsjp', 'nwzv']\n",
    "\n",
    "import string\n",
    "import statistics\n",
    "def top_3_words(text):\n",
    "    normal_characters = string.ascii_letters + string.digits\n",
    "    all_characters = string.printable\n",
    "    abnormal_characters = ''.join(char for char in all_characters if char not in normal_characters)\n",
    "    lstText = text.split()\n",
    "    for i in range(len(lstText)):\n",
    "        lstText[i] = lstText[i].strip(abnormal_characters)\n",
    "        lstText[i] = lstText[i].lower()\n",
    "    lstText = [x for x in lstText if x != '']\n",
    "    try:\n",
    "        item1 = statistics.mode(lstText)\n",
    "        lstText = [x for x in lstText if x!= item1]\n",
    "    except:\n",
    "        return[]\n",
    "    try:\n",
    "        item2 = statistics.mode(lstText)\n",
    "        lstText = [x for x in lstText if x!= item2]\n",
    "    except:\n",
    "        return[item1]\n",
    "    try:\n",
    "        item3 = statistics.mode(lstText)\n",
    "        return [item1, item2, item3]\n",
    "    except:\n",
    "        return[item1,item2]\n",
    "\n",
    "\n",
    "top_3_words(text)"
   ]
  },
  {
   "cell_type": "code",
   "execution_count": 26,
   "metadata": {},
   "outputs": [
    {
     "name": "stdout",
     "output_type": "stream",
     "text": [
      "['RKKZR', 'VYNYSDCxL', 'jWpFjSfQUf', 'XOz', 'UFFPqDLD', 'vMpDJR', 'SLbwQGAl', 'vMpD', 'JR', 'FQstsjp', 'FhR', 'VqbmQzC', 'nWzV', 'XOz', 'RKKZR', 'VqbmQzC', 'KeYSAw', 'VqbmQzC', 'hzIa', 'zSvYEV', 'KeYSAw', 'FhR', 'vMpDJR', 'VYNYSDCxL', 'vJcas', 'KeYSAw', 'FQstsjp', 'nWzV', 'nWzV', 'i', 'rDZQmsHN', 'FQstsjp', 'nWzV', 'FhR', 'FQstsjp', 'RKKZR', 'RKKZR', 'FQstsjp', 'vJcas', 'KeYSAw', 'v', 'MpDJR', 'FQstsjp', 'XOz', 'FQstsjp', 'FQstsjp', 'jWpFjSfQUf', 'dUNQL', 'hzIazSvYEV', 'nWzV', 'SLbwQ', 'GAl', 'UFFPqDLD', 'VqbmQzC', 'UFFPqDLD', 'VqbmQzC', 'jWpFjSfQUf', 'jWpFjSfQUf', 'nWzV', 'KeYSAw', 'RKK', 'ZR', 'vJcas', 'vJcas', 'VYNYSDCxL', 'VYNYSDCxL', 'nWzV', 'FQstsjp', 'dUNQL', 'vMpDJR', 'XOz', 'irDZQmsHN', 'vJcas', 'F', 'hR', 'KeYSAw', 'CQhPH', 'YJKWfJ', 'dUNQL', 'CQhPH', 'FhR', 'dUNQL', 'irDZQmsHN', 'SLbwQGAl', 'RKKZR', 'vMp', 'DJR', 'vJcas', 'UFFPqDLD', 'VYNYSDCxL', 'UFFPqDLD', 'VYNYSDCxL', 'UFFPqDLD', 'FQstsjp', 'vMpDJR', 'vJcas', 'KeY', 'SAw', 'irDZQmsHN', 'nWzV', 'irDZQmsHN', 'vJcas', 'bHrk', 'vJcas', 'vJcas', 'RKKZR', 'YJKWfJ', 'vJcas', 'nWzV', 'VYNY', 'SDCxL', 'FhR', 'CQhPH', 'KeYSAw', 'jWpFjSfQUf', 'VqbmQzC', 'KeYSAw', 'KeYSAw', 'nWzV', 'VqbmQzC', 'bHrk', 'Ke', 'YSAw', 'RKKZR', 'VYNYSDCxL', 'vMpDJR', 'YJKWfJ', 'VYNYSDCxL', 'VYNYSDCxL', 'nWzV', 'VYNYSDCxL', 'jWpFjSfQUf', 'SLbwQGAl', 'UFFP', 'qDLD', 'KeYSAw', 'RKKZR', 'VYNYSDCxL', 'irDZQmsHN', 'vJcas', 'irDZQmsHN', 'SLbwQGAl', 'UFFPqDLD', 'RKKZR', 'SLbwQGAl', 'nWzV', 'FQst', 'sjp', 'SLbwQGAl', 'FQstsjp', 'SLbwQGAl', 'FhR', 'FhR', 'VYNYSDCxL', 'nWzV', 'bHrk', 'irDZQmsHN', 'VqbmQzC', 'bHrk', 'dUNQL', 'UFFPqDLD', 'dUNQL', 'FhR', 'jWpFjSfQUf', 'SLbwQGAl', 'dUNQL', 'vMpDJR', 'RKKZR', 'FhR', 'FhR', 'dUNQL', 'F', 'Qstsjp', 'RKKZR', 'YJKWfJ', 'nWzV', 'RKKZR', 'YJKWfJ', 'hzIazSvYEV', 'VYNYSDCxL', 'KeYSAw', 'FQstsjp', 'UFFPqDLD', 'irDZQmsHN', 'jWpFj', 'SfQUf', 'vMpDJR', 'RKKZR', 'vJcas', 'RKKZR', 'UFFPqDLD', 'FQstsjp', 'hzIazSvYEV', 'nWzV', 'jWpFjSfQUf', 'dUNQL', 'KeY', 'SAw', 'hzIazSvYEV', 'irDZQmsHN', 'dUNQL', 'UFFPqDLD', 'nWzV', 'FhR', 'KeYSAw', 'VqbmQzC', 'VYNYSDCxL', 'RKKZR', 'nWzV', 'R', 'KKZR', 'VqbmQzC', 'VYNYSDCxL', 'vJcas', 'VYNYSDCxL', 'vMpDJR', 'jWpFjSfQUf', 'nWzV', 'dUNQL', 'hzIazSvYEV', 'UFFPq', 'DLD', 'fwblVTc', 'YJKWfJ', 'irDZQmsHN', 'FQstsjp', 'vJcas', 'irDZQmsHN', 'CQhPH', 'nWzV', 'FQstsjp', 'VYNYSDCxL', 'vMpD', 'JR', 'UFFPqDLD', 'dUNQL', 'vMpDJR', 'vMpDJR', 'hzIazSvYEV', 'UFFPqDLD', 'SLbwQGAl', 'RKKZR', 'FhR', 'FQstsjp', 'UFFPqDLD', 'VYNY', 'SDCxL', 'hzIazSvYEV', 'CQhPH', 'nWzV', 'FhR', 'UFFPqDLD', 'FhR', 'vMpDJR', 'vMpDJR', 'UFFPqDLD', 'CQhPH', 'RKKZR', 'nWzV', 'vJc', 'as', 'FQstsjp', 'FQstsjp', 'UFFPqDLD', 'VqbmQzC', 'VYNYSDCxL', 'irDZQmsHN', 'UFFPqDLD', 'XOz', 'UFFPqDLD', 'SLbwQGAl', 'SLbwQGAl', 'X', 'Oz', 'RKKZR', 'UFFPqDLD', 'RKKZR', 'bHrk', 'jWpFjSfQUf', 'KeYSAw', 'jWpFjSfQUf', 'CQhPH', 'jWpFjSfQUf', 'VYNYSDCxL', 'FQ', 'stsjp', 'hzIazSvYEV', 'vJcas', 'SLbwQGAl', 'jWpFjSfQUf', 'VqbmQzC', 'XOz', 'KeYSAw', 'KeYSAw', 'RKKZR', 'dUNQL', 'Vqb', 'mQzC', 'VqbmQzC', 'VqbmQzC', 'VqbmQzC', 'XOz', 'FQstsjp', 'irDZQmsHN', 'nWzV', 'SLbwQGAl', 'irDZQmsHN', 'SLbwQGAl', 'KeY', 'SAw', 'hzIazSvYEV', 'RKKZR', 'VYNYSDCxL', 'VqbmQzC', 'nWzV', 'FQstsjp', 'FQstsjp', 'SLbwQGAl', 'VYNYSDCxL', 'CQhPH', 'CQhPH', 'irD', 'ZQmsHN', 'irDZQmsHN', 'jWpFjSfQUf', 'FQstsjp', 'jWpFjSfQUf', 'FhR', 'FhR', 'dUNQL', 'nWzV', 'jWpFjSfQUf', 'dUNQL', 'dUNQL', 'VqbmQzC', 'CQhPH', 'KeYSAw', 'FQstsjp', 'vMpDJR', 'FhR', 'KeYSAw', 'RKKZR', 'VYNYSDCxL', 'FQstsjp', 'UFFPqDLD', 'nWzV', 'VYNYSDCxL', 'irDZQms', 'HN', 'vJcas', 'SLbwQGAl', 'vJcas', 'bHrk', 'irDZQmsHN', 'nWzV', 'UFFPqDLD', 'FQstsjp', 'nWzV', 'SLbwQGAl', 'KeYSAw', 'KeY', 'SAw', 'VqbmQzC', 'bHrk', 'vMpDJR', 'VYNYSDCxL', 'KeYSAw', 'VYNYSDCxL', 'vJcas', 'FhR', 'VYNYSDCxL', 'vMpDJR', 'YJKWfJ', 'KeY', 'SAw', 'bHrk', 'VYNYSDCxL', 'FhR', 'vJcas', 'nWzV', 'nWzV', 'UFFPqDLD', 'FQstsjp', 'nWzV', 'FQstsjp', 'bHrk', 'dUNQL', 'VY', 'NYSDCxL', 'SLbwQGAl', 'SLbwQGAl', 'FhR', 'jWpFjSfQUf', 'dUNQL']\n"
     ]
    },
    {
     "data": {
      "text/plain": [
       "['nwzv', 'vynysdcxl', 'fqstsjp']"
      ]
     },
     "execution_count": 26,
     "metadata": {},
     "output_type": "execute_result"
    }
   ],
   "source": [
    "# my working code\n",
    "\n",
    "import re\n",
    "import statistics\n",
    "def top_3_words(text):\n",
    "    text = re.sub(r'[^a-zA-Z\\s\\']', ' ', text)\n",
    "    lstText = text.split()\n",
    "    print(lstText)\n",
    "    for i in range(len(lstText)):\n",
    "        lstText[i] = lstText[i].lower()\n",
    "    lstText = [x for x in lstText if not re.match(r\"^'+$\", x)]\n",
    "    try:\n",
    "        item1 = statistics.mode(lstText)\n",
    "        lstText = [x for x in lstText if x!= item1]\n",
    "    except:\n",
    "        return[]\n",
    "    try:\n",
    "        item2 = statistics.mode(lstText)\n",
    "        lstText = [x for x in lstText if x!= item2]\n",
    "    except:\n",
    "        return[item1]\n",
    "    try:\n",
    "        item3 = statistics.mode(lstText)\n",
    "        return [item1, item2, item3]\n",
    "    except:\n",
    "        return[item1,item2]\n",
    "\n",
    "\n",
    "top_3_words(text)"
   ]
  },
  {
   "cell_type": "code",
   "execution_count": 30,
   "metadata": {},
   "outputs": [
    {
     "name": "stdout",
     "output_type": "stream",
     "text": [
      "<re.Match object; span=(0, 1), match=\"'\">\n"
     ]
    }
   ],
   "source": [
    "#bruh this is just embrassing at this point...\n",
    "\n",
    "from collections import Counter\n",
    "import re\n",
    "\n",
    "\n",
    "def top_3_words(text):\n",
    "    c = Counter(re.findall(r\"[a-z']+\", re.sub(r\" '+ \", \" \", text.lower())))\n",
    "    return [w for w,_ in c.most_common(3)]"
   ]
  }
 ],
 "metadata": {
  "kernelspec": {
   "display_name": "base",
   "language": "python",
   "name": "python3"
  },
  "language_info": {
   "codemirror_mode": {
    "name": "ipython",
    "version": 3
   },
   "file_extension": ".py",
   "mimetype": "text/x-python",
   "name": "python",
   "nbconvert_exporter": "python",
   "pygments_lexer": "ipython3",
   "version": "3.9.7"
  }
 },
 "nbformat": 4,
 "nbformat_minor": 2
}

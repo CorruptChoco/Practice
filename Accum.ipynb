{
 "cells": [
  {
   "cell_type": "markdown",
   "metadata": {},
   "source": [
    "This time no story, no theory. The examples below show you how to write function accum:\n",
    "\n",
    "Examples:\n",
    "accum(\"abcd\") -> \"A-Bb-Ccc-Dddd\"\n",
    "accum(\"RqaEzty\") -> \"R-Qq-Aaa-Eeee-Zzzzz-Tttttt-Yyyyyyy\"\n",
    "accum(\"cwAt\") -> \"C-Ww-Aaa-Tttt\"\n",
    "The parameter of accum is a string which includes only letters from a..z and A..Z."
   ]
  },
  {
   "cell_type": "code",
   "execution_count": 15,
   "metadata": {},
   "outputs": [
    {
     "data": {
      "text/plain": [
       "'Z-Pp-Ggg-Llll-Nnnnn-Rrrrrr-Xxxxxxx-Qqqqqqqq-Eeeeeeeee-Nnnnnnnnnn-Uuuuuuuuuuu'"
      ]
     },
     "execution_count": 15,
     "metadata": {},
     "output_type": "execute_result"
    }
   ],
   "source": [
    "# my working code :)\n",
    "def accum(st):\n",
    "    letterList = []\n",
    "    for loop, letter in enumerate(list(st)):\n",
    "        bit = letter * (loop + 1)\n",
    "        bit = letter.upper() + bit[1:].lower()\n",
    "        letterList.append(bit)\n",
    "    return '-'.join(letterList)\n",
    "\n",
    "accum('ZpglnRxqenU')"
   ]
  },
  {
   "cell_type": "code",
   "execution_count": 16,
   "metadata": {},
   "outputs": [],
   "source": [
    "# better solution from online\n",
    "def accum(s):\n",
    "    return '-'.join(c.upper() + c.lower() * i for i, c in enumerate(s))"
   ]
  }
 ],
 "metadata": {
  "kernelspec": {
   "display_name": "base",
   "language": "python",
   "name": "python3"
  },
  "language_info": {
   "codemirror_mode": {
    "name": "ipython",
    "version": 3
   },
   "file_extension": ".py",
   "mimetype": "text/x-python",
   "name": "python",
   "nbconvert_exporter": "python",
   "pygments_lexer": "ipython3",
   "version": "3.9.7"
  }
 },
 "nbformat": 4,
 "nbformat_minor": 2
}
